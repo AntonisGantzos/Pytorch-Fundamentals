{
 "cells": [
  {
   "cell_type": "markdown",
   "id": "d5733b94",
   "metadata": {},
   "source": [
    "# Pytorch Workflow\n",
    "\n",
    "A typical pytorch workflow (one of many) :\n",
    "1) Get the data ready (turn into tensors)\n",
    "2) Use Pytorch to build or pick a pretrained model \n",
    "   2.1) Pick a loss funaction and optimizer\n",
    "   2.2) Build a training loop\n",
    "3) Fit the model to the data and make a prediction\n",
    "4) Evaluate the model\n",
    "5) Imporve it through experimentation\n",
    "6) Save and reload the trained model"
   ]
  },
  {
   "cell_type": "markdown",
   "id": "df803a52",
   "metadata": {},
   "source": [
    "# Preparing and loading the data\n",
    " \n",
    "Machine learning is a game of 2 parts :\n",
    "1) Get data into numerical represenation\n",
    "2) Build a model to learn the patterns in that numerical representation\n",
    " \n",
    "To showcase this lets create some **known** data using the linear regression formula \n",
    "\n",
    "We will use a linear regression formula to make a straight line with **known** parameters \n",
    "\n",
    "Linear regression formula : **Y = a * X + b**"
   ]
  },
  {
   "cell_type": "code",
   "execution_count": 74,
   "id": "9942ad59",
   "metadata": {},
   "outputs": [
    {
     "data": {
      "text/plain": [
       "(tensor([[0.0000],\n",
       "         [0.0200],\n",
       "         [0.0400],\n",
       "         [0.0600],\n",
       "         [0.0800],\n",
       "         [0.1000],\n",
       "         [0.1200],\n",
       "         [0.1400],\n",
       "         [0.1600],\n",
       "         [0.1800]]),\n",
       " tensor([[0.3000],\n",
       "         [0.3140],\n",
       "         [0.3280],\n",
       "         [0.3420],\n",
       "         [0.3560],\n",
       "         [0.3700],\n",
       "         [0.3840],\n",
       "         [0.3980],\n",
       "         [0.4120],\n",
       "         [0.4260]]))"
      ]
     },
     "execution_count": 74,
     "metadata": {},
     "output_type": "execute_result"
    }
   ],
   "source": [
    "import torch\n",
    "#create **known** parameters \n",
    "weight=0.7\n",
    "bias=0.3\n",
    "\n",
    "start=0\n",
    "end=1\n",
    "step=0.02\n",
    "\n",
    "#input\n",
    "X= torch.arange(start,end, step).unsqueeze(dim=1)\n",
    "\n",
    "#ideal output\n",
    "Y= weight * X + bias\n",
    "\n",
    "X[:10], Y[:10]"
   ]
  },
  {
   "cell_type": "code",
   "execution_count": 75,
   "id": "c1e83bf3",
   "metadata": {},
   "outputs": [],
   "source": [
    "#list named parameters\n",
    "#model_0.state_dict()"
   ]
  },
  {
   "cell_type": "code",
   "execution_count": 76,
   "id": "ae10976c",
   "metadata": {},
   "outputs": [
    {
     "data": {
      "text/plain": [
       "(40, 40, 10, 10)"
      ]
     },
     "execution_count": 76,
     "metadata": {},
     "output_type": "execute_result"
    }
   ],
   "source": [
    "#Split data into training and test sets\n",
    "train_split=int(0.8* len(X))\n",
    "x_train, y_train = X[:train_split], Y[:train_split]\n",
    "x_test,y_test = X[train_split:], Y[train_split:]\n",
    "\n",
    "len(x_train), len(y_train), len(x_test), len(y_test)"
   ]
  },
  {
   "cell_type": "code",
   "execution_count": 77,
   "id": "7734e2ab",
   "metadata": {},
   "outputs": [],
   "source": [
    "#visualize data using matplotlib\n",
    "import matplotlib.pyplot as plt\n",
    "def plot_predictions(train_data=x_train,\n",
    "                     train_labels=y_train,\n",
    "                     test_data=x_test,\n",
    "                     test_labels=y_test,\n",
    "                     predictions=None) :\n",
    "    \"\"\"\n",
    "      plots training, test data and compares predictions\n",
    "    \"\"\"\n",
    "    plt.figure(figsize=(10,7))\n",
    "    \n",
    "    #plot training data in blue\n",
    "    plt.scatter(train_data, train_labels, c=\"b\", label=\"Training data\")\n",
    "    \n",
    "    #plot testing data in red\n",
    "    plt.scatter(test_data, test_labels, c=\"r\", label=\"Testing data\")\n",
    "    \n",
    "    #plot predictions if they exist \n",
    "    if predictions is not None : \n",
    "        plt.scatter(test_data, predictions, c=\"g\", label=\"Predictions\")\n",
    "        \n",
    "    \n",
    "    #plot the legend \n",
    "    plt.legend(prop={\"size\":14})\n",
    "    "
   ]
  },
  {
   "cell_type": "code",
   "execution_count": 78,
   "id": "374524e3",
   "metadata": {},
   "outputs": [
    {
     "data": {
      "image/png": "[encoded data removed]",
      "text/plain": [
       "<Figure size 1000x700 with 1 Axes>"
      ]
     },
     "metadata": {},
     "output_type": "display_data"
    }
   ],
   "source": [
    "plot_predictions()"
   ]
  },
  {
   "cell_type": "markdown",
   "id": "64f86fc3",
   "metadata": {},
   "source": [
    "## Building a PyTorch model note\n",
    "reference on how python classes work : https://realpython.com/python-classes/"
   ]
  },
  {
   "cell_type": "code",
   "execution_count": 79,
   "id": "5dc6b1f6",
   "metadata": {},
   "outputs": [],
   "source": [
    "#Create a Linear Regression Model class\n",
    "from torch import nn\n",
    "import torch\n",
    "class LinearRegressionModel(nn.Module) :## almost everything in python inherits from nn.Module\n",
    "    #create a constructor\n",
    "    def __init__(self):\n",
    "        super().__init__()\n",
    "        # we use gradient descent to update the parameters \n",
    "        self.weights=nn.Parameter(torch.rand(1,requires_grad=True,dtype=torch.float)) \n",
    "        self.bias=nn.Parameter(torch.rand(1,requires_grad=True,dtype=torch.float))\n",
    "\n",
    "    #add a forward method to define the computation in the model\n",
    "    def forward(self, x:torch.Tensor) -> torch.Tensor : # x is the input \n",
    "        return self.weights*x + self.bias # this is the linear regression formula "
   ]
  },
  {
   "cell_type": "markdown",
   "id": "1db43201",
   "metadata": {},
   "source": [
    "# How this works\n",
    "\n",
    "The function will take random values for weights and bias and will keep adjusting them and recalculate the linear regression formula over and over in order to represent the known parameters we created earlier (weight=0.7, bias=0.3) \n",
    "\n",
    "It does this with the use of the following 2 algorithms :\n",
    "1) Gradient descent - https://youtu.be/IHZwWFHWa-w?si=UKj8ngYteq5gxuCz\n",
    "2) Backpropagation - https://youtu.be/Ilg3gGewQ5U?si=uxSeiuym7XafyhJk"
   ]
  },
  {
   "cell_type": "markdown",
   "id": "8975a3bf",
   "metadata": {},
   "source": [
    "# PyTorch model building essentials :\n",
    "\n",
    "* torch.nn -> contains all the tools necessary for computational graphs (a general term to describe a neural network)\n",
    "* torch.nn.Parameter -> defines the parameters our model should try and learn\n",
    "* torch.nn.Module -> the base class for all neural network modules\n",
    "* torch.optim -> utilizies optimizers, which help with gradient descent\n",
    "* def forward() -> all nn.Module subclasses require us to overwrite forward(), this mehod defines what happens in the forward computation\n",
    "\n",
    "PyTorch cheat sheet : https://pytorch.org/tutorials/beginner/ptcheat.html "
   ]
  },
  {
   "cell_type": "code",
   "execution_count": 80,
   "id": "452b8567",
   "metadata": {},
   "outputs": [
    {
     "data": {
      "text/plain": [
       "[Parameter containing:\n",
       " tensor([0.8823], requires_grad=True),\n",
       " Parameter containing:\n",
       " tensor([0.9150], requires_grad=True)]"
      ]
     },
     "execution_count": 80,
     "metadata": {},
     "output_type": "execute_result"
    }
   ],
   "source": [
    "# lets look whats inside our model \n",
    "\n",
    "#create a manual seed to control the randomness\n",
    "torch.manual_seed(42)\n",
    "\n",
    "#create an instance of the model we created\n",
    "model_0=LinearRegressionModel()\n",
    "\n",
    "#check the parameters of the instance \n",
    "list(model_0.parameters())"
   ]
  },
  {
   "cell_type": "code",
   "execution_count": 81,
   "id": "8348efdc",
   "metadata": {},
   "outputs": [
    {
     "data": {
      "text/plain": [
       "tensor([[1.6208],\n",
       "        [1.6385],\n",
       "        [1.6561],\n",
       "        [1.6738],\n",
       "        [1.6914],\n",
       "        [1.7090],\n",
       "        [1.7267],\n",
       "        [1.7443],\n",
       "        [1.7620],\n",
       "        [1.7796]])"
      ]
     },
     "execution_count": 81,
     "metadata": {},
     "output_type": "execute_result"
    }
   ],
   "source": [
    "#make predictions with  model using inference mode\n",
    "#alteratively torch.no_grad() instead of inference_mode produces similar result \n",
    "\n",
    "with torch.inference_mode():\n",
    "    y_preds=model_0(x_test)\n",
    "    \n",
    "y_preds"
   ]
  },
  {
   "cell_type": "code",
   "execution_count": 82,
   "id": "b646a158",
   "metadata": {},
   "outputs": [
    {
     "data": {
      "image/png": "[encoded data removed]",
      "text/plain": [
       "<Figure size 1000x700 with 1 Axes>"
      ]
     },
     "metadata": {},
     "output_type": "display_data"
    }
   ],
   "source": [
    "#visualize results\n",
    "plot_predictions(predictions=y_preds)"
   ]
  },
  {
   "cell_type": "markdown",
   "id": "3dae8f49",
   "metadata": {},
   "source": [
    "# Training the model to make accurate predictions\n",
    "\n",
    "The basic idea is for a model to move form some **unknown** parameters (possiby random) to some **known parameters** or in other words from a false to a better and more accurate representation of our data\n",
    "\n",
    "To train the model we need the following :\n",
    "* Loss function -> measure how wrong are our model's predictions are compared to the ideal outputs. The lower the reuslt of\n",
    "* the loss function the better.\n",
    "* Optimizers -> Takes into account the loss of a model and adjusts the model's parameters.\n",
    "\n",
    "We will also require : \n",
    "1) a training loop\n",
    "2) a testing loop\n",
    "\n",
    "Relative documentation on loss functions : https://pytorch.org/docs/stable/nn.html#loss-functions"
   ]
  },
  {
   "cell_type": "code",
   "execution_count": 83,
   "id": "678502d1",
   "metadata": {},
   "outputs": [],
   "source": [
    "import torch \n",
    "from torch import nn \n",
    "\n",
    "#setup a loss function. for the specific model we will be using L1Loss() function which calculates the error margin \n",
    "#by finding the Mean Average Error (MAE).\n",
    "#MAE is the average mean distance between expected prediction and actual prediction for each output\n",
    "#the goal is to minimize the the MAE as much as possible \n",
    "loss_fn=nn.L1Loss()\n",
    "\n",
    "#setup an optimizer (we use stochastic gradient descend)\n",
    "optimizer=torch.optim.SGD(params=model_0.parameters(),\n",
    "                          lr=0.01) #lr stands for learning rate and its the most important hyperparameter we can set "
   ]
  },
  {
   "cell_type": "markdown",
   "id": "81809f9e",
   "metadata": {},
   "source": [
    "## Building a training and testing loop in PyTorch step-by-step\n",
    "\n",
    "Loop through the data and perform the following steps\n",
    "1) Forward pass to make predictions on the data -> this involves data moving through our model's *forward()* functions (there may be more than one). Commonly called **forward propagation**\n",
    "2) Calculate loss -> compare forward pass labels to ground truth labels.\n",
    "3) optimizer zero grad\n",
    "4) Loss backward -> move backwards through the network to to calculate the gradients of each of the parameters of our model with respect to the loss (**backpropagation**)\n",
    "5) Optimizer step -> use the optimizer to adjust our model's parameters to try and improve the loss (**graient descend**)."
   ]
  },
  {
   "cell_type": "code",
   "execution_count": 84,
   "id": "e058c001",
   "metadata": {},
   "outputs": [
    {
     "name": "stdout",
     "output_type": "stream",
     "text": [
      "Epoch : 0 , Loss : 0.6860889196395874, Test Loss : 0.7637526988983154\n",
      "OrderedDict([('weights', tensor([0.8784])), ('bias', tensor([0.9050]))])\n",
      "Epoch : 10 , Loss : 0.5708791017532349, Test Loss : 0.6290428042411804\n",
      "OrderedDict([('weights', tensor([0.8394])), ('bias', tensor([0.8050]))])\n",
      "Epoch : 20 , Loss : 0.45566922426223755, Test Loss : 0.4943329691886902\n",
      "OrderedDict([('weights', tensor([0.8004])), ('bias', tensor([0.7050]))])\n",
      "Epoch : 30 , Loss : 0.34045934677124023, Test Loss : 0.35962313413619995\n",
      "OrderedDict([('weights', tensor([0.7614])), ('bias', tensor([0.6050]))])\n",
      "Epoch : 40 , Loss : 0.2252494841814041, Test Loss : 0.2249133139848709\n",
      "OrderedDict([('weights', tensor([0.7224])), ('bias', tensor([0.5050]))])\n",
      "Epoch : 50 , Loss : 0.1100396141409874, Test Loss : 0.09020347893238068\n",
      "OrderedDict([('weights', tensor([0.6834])), ('bias', tensor([0.4050]))])\n",
      "Epoch : 60 , Loss : 0.009724985808134079, Test Loss : 0.020998019725084305\n",
      "OrderedDict([('weights', tensor([0.6539])), ('bias', tensor([0.3200]))])\n",
      "Epoch : 70 , Loss : 0.006216754671186209, Test Loss : 0.014099234715104103\n",
      "OrderedDict([('weights', tensor([0.6707])), ('bias', tensor([0.3120]))])\n",
      "Epoch : 80 , Loss : 0.002788322512060404, Test Loss : 0.005826681852340698\n",
      "OrderedDict([('weights', tensor([0.6878])), ('bias', tensor([0.3050]))])\n",
      "Epoch : 90 , Loss : 0.007095950655639172, Test Loss : 0.00754010071977973\n",
      "OrderedDict([('weights', tensor([0.6938])), ('bias', tensor([0.2980]))])\n"
     ]
    }
   ],
   "source": [
    "torch.manual_seed(42)\n",
    "\n",
    "#an epoch is one loop through the data \n",
    "epochs=100\n",
    "\n",
    "#track different values\n",
    "epoch_count=[]\n",
    "loss_values=[]\n",
    "test_loss_values=[]\n",
    "\n",
    "#Loop through the data \n",
    "for epoch in range(epochs):\n",
    "    #set the model to training mode \n",
    "    model_0.train() #enables all parameters that can require gradients to do so to start the process of gradient descend\n",
    "    \n",
    "    #forward pass\n",
    "    y_pred=model_0(x_train)\n",
    "    \n",
    "    #calculate loss\n",
    "    loss=loss_fn(y_pred, y_train)\n",
    "    #print(f\"Loss : {loss}\")\n",
    "    \n",
    "    \n",
    "    #optimizer zero grad\n",
    "    optimizer.zero_grad()\n",
    "    \n",
    "    #perform backpropagation on the loss with respect to the parameers of the model \n",
    "    loss.backward()\n",
    "    \n",
    "    #step the optimizer to perform gradient descend\n",
    "    optimizer.step() #by default how the optimizer changes will be accumulated through the loop so we have to zero them\n",
    "    #print(model_0.state_dict())\n",
    "    \n",
    "    #set the model to testing mode\n",
    "    model_0.eval() #turns off gradient tracking and different settings in our model not needed for evaluation/testing\n",
    "    with torch.inference_mode():\n",
    "        \n",
    "        #1 forward pass\n",
    "        test_pred=model_0(x_test)\n",
    "        \n",
    "        #2 calculate the loss\n",
    "        test_loss=loss_fn(test_pred, y_test )\n",
    "    if epoch%10==0 :       \n",
    "        epoch_count.append(epoch)\n",
    "        loss_values.append(loss)\n",
    "        test_loss_values.append(test_loss)\n",
    "\n",
    "        print(f\"Epoch : {epoch} , Loss : {loss}, Test Loss : {test_loss}\")\n",
    "        print(model_0.state_dict())\n",
    "\n"
   ]
  },
  {
   "cell_type": "code",
   "execution_count": 85,
   "id": "1f72a3c9",
   "metadata": {},
   "outputs": [
    {
     "data": {
      "text/plain": [
       "([0, 10, 20, 30, 40, 50, 60, 70, 80, 90],\n",
       " array([0.6860889 , 0.5708791 , 0.45566922, 0.34045935, 0.22524948,\n",
       "        0.11003961, 0.00972499, 0.00621675, 0.00278832, 0.00709595],\n",
       "       dtype=float32),\n",
       " [tensor(0.7638),\n",
       "  tensor(0.6290),\n",
       "  tensor(0.4943),\n",
       "  tensor(0.3596),\n",
       "  tensor(0.2249),\n",
       "  tensor(0.0902),\n",
       "  tensor(0.0210),\n",
       "  tensor(0.0141),\n",
       "  tensor(0.0058),\n",
       "  tensor(0.0075)])"
      ]
     },
     "execution_count": 85,
     "metadata": {},
     "output_type": "execute_result"
    }
   ],
   "source": [
    "import numpy as np \n",
    "epoch_count, np.array(torch.tensor(loss_values).numpy()), test_loss_values, "
   ]
  },
  {
   "cell_type": "code",
   "execution_count": 86,
   "id": "9110bf1c",
   "metadata": {},
   "outputs": [
    {
     "data": {
      "text/plain": [
       "<matplotlib.legend.Legend at 0x1f2b6481290>"
      ]
     },
     "execution_count": 86,
     "metadata": {},
     "output_type": "execute_result"
    },
    {
     "data": {
      "image/png": "[encoded data removed]",
      "text/plain": [
       "<Figure size 640x480 with 1 Axes>"
      ]
     },
     "metadata": {},
     "output_type": "display_data"
    }
   ],
   "source": [
    "import matplotlib.pyplot as plt\n",
    "#plot the loss curves\n",
    "#convert tensors to numpy array since matplotlib works with numpy\n",
    "plt.plot(epoch_count, np.array(torch.tensor(loss_values).numpy()), label=\"Train Loss\" )\n",
    "plt.plot(epoch_count, test_loss_values , label=\"Test Loss\" )\n",
    "plt.xlabel(\"Epochs\")\n",
    "plt.ylabel(\"Loss\")\n",
    "plt.legend()\n"
   ]
  },
  {
   "cell_type": "code",
   "execution_count": 87,
   "id": "f9adf7bc",
   "metadata": {},
   "outputs": [
    {
     "data": {
      "text/plain": [
       "(0.7, 0.3)"
      ]
     },
     "execution_count": 87,
     "metadata": {},
     "output_type": "execute_result"
    }
   ],
   "source": [
    "weight,bias"
   ]
  },
  {
   "cell_type": "code",
   "execution_count": 88,
   "id": "dc37d154",
   "metadata": {},
   "outputs": [],
   "source": [
    "with torch.inference_mode():\n",
    "    new_y_preds=model_0(x_test)"
   ]
  },
  {
   "cell_type": "code",
   "execution_count": 89,
   "id": "44eb65b1",
   "metadata": {},
   "outputs": [
    {
     "data": {
      "image/png": "[encoded data removed]",
      "text/plain": [
       "<Figure size 1000x700 with 1 Axes>"
      ]
     },
     "metadata": {},
     "output_type": "display_data"
    }
   ],
   "source": [
    "plot_predictions(predictions=new_y_preds)"
   ]
  },
  {
   "cell_type": "markdown",
   "id": "14e2ec69",
   "metadata": {},
   "source": [
    "## Saving a Model \n",
    "\n",
    "There are 3 methods used to save/load a model in PyTorch\n",
    "\n",
    "1) torch.save() -> allows us to save a Pytorch object in Python's pickle format\n",
    "2) torch.load() -> allows us to load a saved Pytorch object\n",
    "3) torch.nn.Module.load.state_dict() -> this allows to save a model's saved state dicionary\n",
    "\n",
    "Relative Documentation : https://pytorch.org/tutorials/beginner/saving_loading_models.html"
   ]
  },
  {
   "cell_type": "code",
   "execution_count": 90,
   "id": "d5fce66a",
   "metadata": {},
   "outputs": [
    {
     "name": "stdout",
     "output_type": "stream",
     "text": [
      "saving the model to : models\\pytorch_workflow_model.pth\n"
     ]
    }
   ],
   "source": [
    "#Saving our Pytorch model \n",
    "from pathlib import Path\n",
    "\n",
    "#create model directory\n",
    "MODEL_PATH=Path(\"models\")\n",
    "MODEL_PATH.mkdir(parents=True, exist_ok=True)\n",
    "\n",
    "#create a model save path\n",
    "MODEL_NAME=\"pytorch_workflow_model.pth\"\n",
    "MODEL_SAVE_PATH = MODEL_PATH / MODEL_NAME\n",
    "\n",
    "\n",
    "#save the model state_dict\n",
    "print(f\"saving the model to : {MODEL_SAVE_PATH}\")\n",
    "torch.save(obj=model_0.state_dict(), f=MODEL_SAVE_PATH)"
   ]
  },
  {
   "cell_type": "code",
   "execution_count": 91,
   "id": "5d62472e",
   "metadata": {},
   "outputs": [
    {
     "data": {
      "text/plain": [
       "OrderedDict([('weights', tensor([0.6977])), ('bias', tensor([0.3080]))])"
      ]
     },
     "execution_count": 91,
     "metadata": {},
     "output_type": "execute_result"
    }
   ],
   "source": [
    "#in order to load a saved model's state_dict we need to instantiate a new instance of the class\n",
    "loaded_model_0=LinearRegressionModel()\n",
    "\n",
    "#load the saved state_dict of the model (this will update the model's parameters)\n",
    "loaded_model_0.load_state_dict(torch.load(f=MODEL_SAVE_PATH))\n",
    "loaded_model_0.state_dict()"
   ]
  },
  {
   "cell_type": "code",
   "execution_count": 92,
   "id": "1c59c065",
   "metadata": {},
   "outputs": [
    {
     "data": {
      "text/plain": [
       "tensor([[True],\n",
       "        [True],\n",
       "        [True],\n",
       "        [True],\n",
       "        [True],\n",
       "        [True],\n",
       "        [True],\n",
       "        [True],\n",
       "        [True],\n",
       "        [True]])"
      ]
     },
     "execution_count": 92,
     "metadata": {},
     "output_type": "execute_result"
    }
   ],
   "source": [
    "#make some predicions with loaded model \n",
    "loaded_model_0.eval() #set to test mode\n",
    "with torch.inference_mode():\n",
    "    loaded_model_preds=loaded_model_0(x_test)\n",
    "\n",
    "\n",
    "\n",
    "#make predicions with original and comare to check if they match\n",
    "model_0.eval() #set to test mode\n",
    "with torch.inference_mode():\n",
    "    original_preds=model_0(x_test)\n",
    "\n",
    "loaded_model_preds == original_preds"
   ]
  },
  {
   "cell_type": "markdown",
   "id": "341a0753",
   "metadata": {},
   "source": [
    "## Putting everything together \n",
    "\n",
    "An atempt to try and combine each step of the workflow by creating oen more PyTorch model example. Lets also attempt makingsome device agnostic code. This eans that if there is a GPU our code will use it for potentially faster computing. If there is not the code will default to using CPU "
   ]
  },
  {
   "cell_type": "code",
   "execution_count": 93,
   "id": "f6134bef",
   "metadata": {},
   "outputs": [
    {
     "name": "stdout",
     "output_type": "stream",
     "text": [
      "using device : cpu\n"
     ]
    }
   ],
   "source": [
    "#import pytorch and matplotlib\n",
    "import torch \n",
    "from torch import nn \n",
    "import matplotlib.pyplot as plt\n",
    "\n",
    "#create device agnostic code\n",
    "device=\"cuda\" if torch.cuda.is_available() else \"cpu\"\n",
    "print(f\"using device : {device}\")"
   ]
  },
  {
   "cell_type": "code",
   "execution_count": 94,
   "id": "03946768",
   "metadata": {},
   "outputs": [
    {
     "data": {
      "text/plain": [
       "(tensor([[0.0000],\n",
       "         [0.0200],\n",
       "         [0.0400],\n",
       "         [0.0600],\n",
       "         [0.0800],\n",
       "         [0.1000],\n",
       "         [0.1200],\n",
       "         [0.1400],\n",
       "         [0.1600],\n",
       "         [0.1800]]),\n",
       " tensor([[0.3000],\n",
       "         [0.3140],\n",
       "         [0.3280],\n",
       "         [0.3420],\n",
       "         [0.3560],\n",
       "         [0.3700],\n",
       "         [0.3840],\n",
       "         [0.3980],\n",
       "         [0.4120],\n",
       "         [0.4260]]))"
      ]
     },
     "execution_count": 94,
     "metadata": {},
     "output_type": "execute_result"
    }
   ],
   "source": [
    "#create some data using the linear regression formula y = weights * x + bias\n",
    "bias=0.3\n",
    "weight=0.7\n",
    "\n",
    "#create range values\n",
    "start=0\n",
    "end=1\n",
    "step=0.02\n",
    "\n",
    "#create features and labels (X and y)\n",
    "X=torch.arange(start, end, step).unsqueeze(dim=1) #without unsqueeze errors will pop up\n",
    "\n",
    "y=weight* X + bias\n",
    "\n",
    "X[:10], y[:10]"
   ]
  },
  {
   "cell_type": "code",
   "execution_count": 95,
   "id": "e38b7118",
   "metadata": {},
   "outputs": [
    {
     "data": {
      "text/plain": [
       "(40, 40, 10, 10)"
      ]
     },
     "execution_count": 95,
     "metadata": {},
     "output_type": "execute_result"
    }
   ],
   "source": [
    "#Split the data into training and testing samples\n",
    "x_train, y_train = X[:train_split], Y[:train_split]\n",
    "x_test,y_test = X[train_split:], Y[train_split:]\n",
    "\n",
    "len(x_train), len(y_train), len(y_test), len(x_test)"
   ]
  },
  {
   "cell_type": "code",
   "execution_count": 96,
   "id": "4633fca0",
   "metadata": {},
   "outputs": [
    {
     "data": {
      "image/png": "[encoded data removed]",
      "text/plain": [
       "<Figure size 1000x700 with 1 Axes>"
      ]
     },
     "metadata": {},
     "output_type": "display_data"
    }
   ],
   "source": [
    "#plot the data \n",
    "plot_predictions(x_train, y_train, x_test, y_test)"
   ]
  },
  {
   "cell_type": "code",
   "execution_count": 97,
   "id": "f73b1914",
   "metadata": {},
   "outputs": [
    {
     "data": {
      "text/plain": [
       "(LinearRegressionModelV2(\n",
       "   (linear_layer): Linear(in_features=1, out_features=1, bias=True)\n",
       " ),\n",
       " OrderedDict([('linear_layer.weight', tensor([[0.7645]])),\n",
       "              ('linear_layer.bias', tensor([0.8300]))]))"
      ]
     },
     "execution_count": 97,
     "metadata": {},
     "output_type": "execute_result"
    }
   ],
   "source": [
    "#Building a PyTorch Linear model (we call it linear because it refers to a straight line)\n",
    "class LinearRegressionModelV2(nn.Module):\n",
    "    def __init__(self):\n",
    "        super().__init__()\n",
    "        #this time we use nn.Linear to create the model parameters\n",
    "        #linear_layer will automatically transform our data using the linear regression formula\n",
    "        self.linear_layer=nn.Linear(in_features=1,\n",
    "                                    out_features=1) #this means we want to take an input of size 1 and output of size 1\n",
    "    \n",
    "    def forward(self, x:torch.Tensor) -> torch.Tensor :\n",
    "        return self.linear_layer(x)\n",
    "        \n",
    "            \n",
    "#set the manual seed\n",
    "torch.manual_seed(42)\n",
    "model_1=LinearRegressionModelV2()\n",
    "model_1, model_1.state_dict()"
   ]
  },
  {
   "cell_type": "code",
   "execution_count": 98,
   "id": "bc7b1c51",
   "metadata": {},
   "outputs": [
    {
     "data": {
      "text/plain": [
       "device(type='cpu')"
      ]
     },
     "execution_count": 98,
     "metadata": {},
     "output_type": "execute_result"
    }
   ],
   "source": [
    "#check the current model device\n",
    "next(model_1.parameters()).device"
   ]
  },
  {
   "cell_type": "code",
   "execution_count": 99,
   "id": "7ef13858",
   "metadata": {},
   "outputs": [
    {
     "data": {
      "text/plain": [
       "device(type='cpu')"
      ]
     },
     "execution_count": 99,
     "metadata": {},
     "output_type": "execute_result"
    }
   ],
   "source": [
    "#set the model to use the target device\n",
    "#important note to remember. Everything should run on the same device so if we run the model on GPU then the data should also run in GPU\n",
    "#same with cpu\n",
    "model_1.to(device)\n",
    "next(model_1.parameters()).device"
   ]
  },
  {
   "cell_type": "code",
   "execution_count": 100,
   "id": "85ff7b37",
   "metadata": {},
   "outputs": [],
   "source": [
    "#Training the model\n",
    "#set up loss function and optimizer\n",
    "loss_fn=nn.L1Loss()#same as before\n",
    "optimizer=torch.optim.SGD(params=model_1.parameters(),lr=0.01)\n"
   ]
  },
  {
   "cell_type": "code",
   "execution_count": 101,
   "id": "4cef7cff",
   "metadata": {},
   "outputs": [
    {
     "name": "stdout",
     "output_type": "stream",
     "text": [
      "Epoch : 0 , Loss : 0.5739762187004089, Test Loss : 0.005930870771408081\n",
      "OrderedDict([('linear_layer.weight', tensor([[0.7606]])), ('linear_layer.bias', tensor([0.8200]))])\n",
      "Epoch : 10 , Loss : 0.4392663538455963, Test Loss : 0.005930870771408081\n",
      "OrderedDict([('linear_layer.weight', tensor([[0.7216]])), ('linear_layer.bias', tensor([0.7200]))])\n",
      "Epoch : 20 , Loss : 0.30455657839775085, Test Loss : 0.005930870771408081\n",
      "OrderedDict([('linear_layer.weight', tensor([[0.6826]])), ('linear_layer.bias', tensor([0.6200]))])\n",
      "Epoch : 30 , Loss : 0.16984674334526062, Test Loss : 0.005930870771408081\n",
      "OrderedDict([('linear_layer.weight', tensor([[0.6436]])), ('linear_layer.bias', tensor([0.5200]))])\n",
      "Epoch : 40 , Loss : 0.03513689711689949, Test Loss : 0.005930870771408081\n",
      "OrderedDict([('linear_layer.weight', tensor([[0.6046]])), ('linear_layer.bias', tensor([0.4200]))])\n",
      "Epoch : 50 , Loss : 0.04784906655550003, Test Loss : 0.005930870771408081\n",
      "OrderedDict([('linear_layer.weight', tensor([[0.5872]])), ('linear_layer.bias', tensor([0.3525]))])\n",
      "Epoch : 60 , Loss : 0.04580312222242355, Test Loss : 0.005930870771408081\n",
      "OrderedDict([('linear_layer.weight', tensor([[0.6025]])), ('linear_layer.bias', tensor([0.3410]))])\n",
      "Epoch : 70 , Loss : 0.0375305712223053, Test Loss : 0.005930870771408081\n",
      "OrderedDict([('linear_layer.weight', tensor([[0.6196]])), ('linear_layer.bias', tensor([0.3340]))])\n",
      "Epoch : 80 , Loss : 0.029944902285933495, Test Loss : 0.005930870771408081\n",
      "OrderedDict([('linear_layer.weight', tensor([[0.6366]])), ('linear_layer.bias', tensor([0.3265]))])\n",
      "Epoch : 90 , Loss : 0.02167237363755703, Test Loss : 0.005930870771408081\n",
      "OrderedDict([('linear_layer.weight', tensor([[0.6537]])), ('linear_layer.bias', tensor([0.3195]))])\n"
     ]
    }
   ],
   "source": [
    "#Create a training loop\n",
    "\n",
    "epochs=100\n",
    "\n",
    "#Loop through the data \n",
    "for epoch in range(epochs):\n",
    "    model_1.train() #set the mode to training mode\n",
    "    \n",
    "    #do the forward pass\n",
    "    y_pred=model_1(x_train)\n",
    "    \n",
    "    #calculate the loss\n",
    "    loss=loss_fn(y_pred, y_train)\n",
    "    \n",
    "    #optimizer zero grad\n",
    "    optimizer.zero_grad()\n",
    "    \n",
    "    #backpropagation\n",
    "    loss.backward()\n",
    "    \n",
    "    #step the optimizer\n",
    "    optimizer.step()\n",
    "    \n",
    "    #Test the model \n",
    "    model_1.eval()\n",
    "    with torch.inference_mode():\n",
    "        #do the forward pass \n",
    "        y_test_pred=model_1(x_test)\n",
    "        \n",
    "        #calculate the test loss\n",
    "        loss=loss_fn(y_test_pred, y_test)\n",
    "        \n",
    "        \n",
    "    if epoch%10==0 :       \n",
    "        #epoch_count.append(epoch)\n",
    "        #loss_values.append(loss)\n",
    "        #test_loss_values.append(test_loss)\n",
    "\n",
    "        print(f\"Epoch : {epoch} , Loss : {loss}, Test Loss : {test_loss}\")\n",
    "        print(model_1.state_dict())\n",
    "        "
   ]
  },
  {
   "cell_type": "code",
   "execution_count": 102,
   "id": "b4707076",
   "metadata": {},
   "outputs": [
    {
     "data": {
      "text/plain": [
       "OrderedDict([('linear_layer.weight', tensor([[0.6691]])),\n",
       "             ('linear_layer.bias', tensor([0.3130]))])"
      ]
     },
     "execution_count": 102,
     "metadata": {},
     "output_type": "execute_result"
    }
   ],
   "source": [
    "#compare results\n",
    "model_1.state_dict()"
   ]
  },
  {
   "cell_type": "code",
   "execution_count": 103,
   "id": "b29e9fe8",
   "metadata": {},
   "outputs": [
    {
     "data": {
      "text/plain": [
       "(0.7, 0.3)"
      ]
     },
     "execution_count": 103,
     "metadata": {},
     "output_type": "execute_result"
    }
   ],
   "source": [
    "weight, bias"
   ]
  },
  {
   "cell_type": "code",
   "execution_count": 105,
   "id": "e751c4b5",
   "metadata": {},
   "outputs": [
    {
     "data": {
      "image/png": "[encoded data removed]",
      "text/plain": [
       "<Figure size 1000x700 with 1 Axes>"
      ]
     },
     "metadata": {},
     "output_type": "display_data"
    }
   ],
   "source": [
    "#make predictions and plot them\n",
    "model_1.eval()\n",
    "with torch.inference_mode():\n",
    "    model_1_new_y_preds=model_1(x_test)\n",
    "    \n",
    "plot_predictions(predictions=model_1_new_y_preds)"
   ]
  },
  {
   "cell_type": "code",
   "execution_count": 106,
   "id": "61dd0770",
   "metadata": {},
   "outputs": [
    {
     "name": "stdout",
     "output_type": "stream",
     "text": [
      "saving the model to : models\\pytorch_workflow_model1.pth\n"
     ]
    }
   ],
   "source": [
    "#save the trained model \n",
    "#Saving our Pytorch model \n",
    "from pathlib import Path\n",
    "\n",
    "#create model directory\n",
    "MODEL_PATH=Path(\"models\")\n",
    "MODEL_PATH.mkdir(parents=True, exist_ok=True)\n",
    "\n",
    "#create a model save path\n",
    "MODEL_NAME=\"pytorch_workflow_model1.pth\"\n",
    "MODEL_SAVE_PATH = MODEL_PATH / MODEL_NAME\n",
    "\n",
    "\n",
    "#save the model state_dict\n",
    "print(f\"saving the model to : {MODEL_SAVE_PATH}\")\n",
    "torch.save(obj=model_1.state_dict(), f=MODEL_SAVE_PATH)"
   ]
  },
  {
   "cell_type": "code",
   "execution_count": 107,
   "id": "1abd862c",
   "metadata": {},
   "outputs": [
    {
     "data": {
      "text/plain": [
       "OrderedDict([('linear_layer.weight', tensor([[0.6691]])),\n",
       "             ('linear_layer.bias', tensor([0.3130]))])"
      ]
     },
     "execution_count": 107,
     "metadata": {},
     "output_type": "execute_result"
    }
   ],
   "source": [
    "#Load the model \n",
    "#in order to load a saved model's state_dict we need to instantiate a new instance of the class\n",
    "loaded_model_1=LinearRegressionModelV2()\n",
    "\n",
    "#load the saved state_dict of the model (this will update the model's parameters)\n",
    "loaded_model_1.load_state_dict(torch.load(f=MODEL_SAVE_PATH))\n",
    "loaded_model_1.state_dict()"
   ]
  },
  {
   "cell_type": "code",
   "execution_count": 108,
   "id": "cf8cd0b2",
   "metadata": {},
   "outputs": [
    {
     "data": {
      "text/plain": [
       "tensor([[True],\n",
       "        [True],\n",
       "        [True],\n",
       "        [True],\n",
       "        [True],\n",
       "        [True],\n",
       "        [True],\n",
       "        [True],\n",
       "        [True],\n",
       "        [True]])"
      ]
     },
     "execution_count": 108,
     "metadata": {},
     "output_type": "execute_result"
    }
   ],
   "source": [
    "with torch.inference_mode():\n",
    "    loaded_y_preds=loaded_model_1(x_test)\n",
    "\n",
    "loaded_y_preds==model_1_new_y_preds"
   ]
  },
  {
   "cell_type": "code",
   "execution_count": null,
   "id": "9d9d45f5",
   "metadata": {},
   "outputs": [],
   "source": []
  }
 ],
 "metadata": {
  "kernelspec": {
   "display_name": "Python 3 (ipykernel)",
   "language": "python",
   "name": "python3"
  },
  "language_info": {
   "codemirror_mode": {
    "name": "ipython",
    "version": 3
   },
   "file_extension": ".py",
   "mimetype": "text/x-python",
   "name": "python",
   "nbconvert_exporter": "python",
   "pygments_lexer": "ipython3",
   "version": "3.11.3"
  }
 },
 "nbformat": 4,
 "nbformat_minor": 5
}
